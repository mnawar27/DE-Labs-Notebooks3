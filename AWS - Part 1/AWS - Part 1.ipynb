{
 "cells": [
  {
   "cell_type": "markdown",
   "metadata": {},
   "source": [
    "## Intro to AWS\n",
    "\n",
    "Amazon Web Services (AWS) is far and away the largest provider of cloud compute infrastructure in the world. Learning how to interact with AWS is an extremely valuable and powerful tool to add to your belt.\n",
    "\n",
    "AWS can be thought of as a set of building blocks, with which you can build almost anything imaginable. \n",
    "\n",
    "Mobile apps, personal websites, photo back up, ₿ mining, databases, data lakes, global IT infrastructure, and more can all be built using AWS. For most people, it is true to say that no day goes by without them interacting in one form or another with a service hosted on AWS. So household names that are built on AWS are:\n",
    "\n",
    " - Netflix\n",
    " - Reddit\n",
    " - Pinterest\n",
    " - AirBnb\n",
    " - State and local government\n",
    " - US Intelligence Agencies\n",
    " - and many, MANY more!\n",
    " \n",
    "The labs we'll work through here, will help you get your feet wet with the platform. There are an ever growing number of services, so we'll work through a few examples of how to interact with the AWS services, and then you'll get a chance later in the course to explore more on your own.\n",
    "\n",
    "In essence, there are three ways to interact with AWS services:\n",
    "\n",
    "- The AWS CLI (Command Line Interface)\n",
    "    - Can be used directly from your command line\n",
    "- Boto3 (the official AWS SDK for Python)\n",
    "    - Used for integrating AWS services into Python code\n",
    "- The AWS Console (https://console.aws.amazon.com/)\n",
    "    - AWS website, where you can see all your services, and manually spin up services\n",
    "    \n",
    "We'll start with a number of Boto3 examples, then log into the console and try a few things, and finally give the CLI a shot.\n",
    "\n",
    "For the AWS labs you'll need:\n",
    " - Boto3 (python library)\n",
    " - awscli (python library)"
   ]
  },
  {
   "cell_type": "code",
   "execution_count": 10,
   "metadata": {},
   "outputs": [
    {
     "name": "stdout",
     "output_type": "stream",
     "text": [
      "Collecting boto3\n",
      "  Downloading boto3-1.35.79-py3-none-any.whl.metadata (6.7 kB)\n",
      "Collecting botocore<1.36.0,>=1.35.79 (from boto3)\n",
      "  Downloading botocore-1.35.79-py3-none-any.whl.metadata (5.7 kB)\n",
      "Collecting jmespath<2.0.0,>=0.7.1 (from boto3)\n",
      "  Using cached jmespath-1.0.1-py3-none-any.whl.metadata (7.6 kB)\n",
      "Collecting s3transfer<0.11.0,>=0.10.0 (from boto3)\n",
      "  Using cached s3transfer-0.10.4-py3-none-any.whl.metadata (1.7 kB)\n",
      "Requirement already satisfied: python-dateutil<3.0.0,>=2.1 in /Users/mnawar/Library/jupyterlab-desktop/jlab_server/lib/python3.12/site-packages (from botocore<1.36.0,>=1.35.79->boto3) (2.9.0)\n",
      "Requirement already satisfied: urllib3!=2.2.0,<3,>=1.25.4 in /Users/mnawar/Library/jupyterlab-desktop/jlab_server/lib/python3.12/site-packages (from botocore<1.36.0,>=1.35.79->boto3) (2.2.2)\n",
      "Requirement already satisfied: six>=1.5 in /Users/mnawar/Library/jupyterlab-desktop/jlab_server/lib/python3.12/site-packages (from python-dateutil<3.0.0,>=2.1->botocore<1.36.0,>=1.35.79->boto3) (1.16.0)\n",
      "Downloading boto3-1.35.79-py3-none-any.whl (139 kB)\n",
      "Downloading botocore-1.35.79-py3-none-any.whl (13.3 MB)\n",
      "\u001b[2K   \u001b[90m━━━━━━━━━━━━━━━━━━━━━━━━━━━━━━━━━━━━━━━━\u001b[0m \u001b[32m13.3/13.3 MB\u001b[0m \u001b[31m9.5 MB/s\u001b[0m eta \u001b[36m0:00:00\u001b[0ma \u001b[36m0:00:01\u001b[0m\n",
      "\u001b[?25hUsing cached jmespath-1.0.1-py3-none-any.whl (20 kB)\n",
      "Using cached s3transfer-0.10.4-py3-none-any.whl (83 kB)\n",
      "Installing collected packages: jmespath, botocore, s3transfer, boto3\n",
      "Successfully installed boto3-1.35.79 botocore-1.35.79 jmespath-1.0.1 s3transfer-0.10.4\n",
      "Note: you may need to restart the kernel to use updated packages.\n"
     ]
    }
   ],
   "source": [
    "pip install boto3"
   ]
  },
  {
   "cell_type": "code",
   "execution_count": 11,
   "metadata": {},
   "outputs": [],
   "source": [
    "#import boto3\n",
    "\n",
    "import boto3"
   ]
  },
  {
   "cell_type": "markdown",
   "metadata": {},
   "source": [
    "## S3 (Simple Storage Service)\n",
    "\n",
    "A few things to keep in mind (from AWS):\n",
    "\n",
    "- Bucket names must be unique across all existing bucket names in Amazon S3.\n",
    "\n",
    "- Bucket names must comply with DNS naming conventions.\n",
    "\n",
    "- Bucket names must be at least 3 and no more than 63 characters long.\n",
    "\n",
    "- Bucket names must not contain uppercase characters or underscores.\n",
    "\n",
    "- Bucket names must start with a lowercase letter or number.\n",
    "\n",
    "- Bucket names must be a series of one or more labels. Adjacent labels are separated by a single period (.). Bucket names can contain lowercase letters, numbers, and hyphens. Each label must start and end with a lowercase letter or a number.\n",
    "\n",
    "- Bucket names must not be formatted as an IP address (for example, 192.168.5.4)."
   ]
  },
  {
   "cell_type": "code",
   "execution_count": 12,
   "metadata": {},
   "outputs": [],
   "source": [
    "#define the s3 client in Boto3\n",
    "\n",
    "s3 = boto3.client('s3') "
   ]
  },
  {
   "cell_type": "code",
   "execution_count": 13,
   "metadata": {},
   "outputs": [
    {
     "data": {
      "text/plain": [
       "{'ResponseMetadata': {'RequestId': 'H33JNZFK2MSY4NM5',\n",
       "  'HostId': 'zWVNZubsmpr7EG0qxWEAWNdupCQDgTyLCAJtyeB9kbm6zLomB/11+Gw8e2WYncTPIUSFy9qv4To=',\n",
       "  'HTTPStatusCode': 200,\n",
       "  'HTTPHeaders': {'x-amz-id-2': 'zWVNZubsmpr7EG0qxWEAWNdupCQDgTyLCAJtyeB9kbm6zLomB/11+Gw8e2WYncTPIUSFy9qv4To=',\n",
       "   'x-amz-request-id': 'H33JNZFK2MSY4NM5',\n",
       "   'date': 'Thu, 12 Dec 2024 19:34:15 GMT',\n",
       "   'location': '/the.best.zipcode.bucket.there.ever.was',\n",
       "   'content-length': '0',\n",
       "   'server': 'AmazonS3'},\n",
       "  'RetryAttempts': 0},\n",
       " 'Location': '/the.best.zipcode.bucket.there.ever.was'}"
      ]
     },
     "execution_count": 13,
     "metadata": {},
     "output_type": "execute_result"
    }
   ],
   "source": [
    "#create a new bucket (bucket names are globally unique, so you'll have to use a name that hasn't been used before)\n",
    "\n",
    "s3.create_bucket(Bucket=\"the.best.zipcode.bucket.there.ever.was\")"
   ]
  },
  {
   "cell_type": "code",
   "execution_count": 14,
   "metadata": {},
   "outputs": [
    {
     "name": "stdout",
     "output_type": "stream",
     "text": [
      "the.best.zipcode.bucket.there.ever.was\n"
     ]
    }
   ],
   "source": [
    "#show all buckets in your account to confirm your bucket was created\n",
    "\n",
    "buckets = s3.list_buckets()\n",
    "for i in buckets['Buckets']:\n",
    "    if i['Name'] == 'the.best.zipcode.bucket.there.ever.was':\n",
    "        print(i['Name'])"
   ]
  },
  {
   "cell_type": "code",
   "execution_count": 15,
   "metadata": {},
   "outputs": [],
   "source": [
    "#upload the \"hello world.rtf\" into your new bucket\n",
    "\n",
    "s3.upload_file(Filename='hello world.rtf', Bucket=\"the.best.zipcode.bucket.there.ever.was\", Key=\"hello world\")"
   ]
  },
  {
   "cell_type": "code",
   "execution_count": 16,
   "metadata": {},
   "outputs": [
    {
     "data": {
      "text/plain": [
       "{'ResponseMetadata': {'RequestId': '3Y37A7AJKYPPNTKN',\n",
       "  'HostId': 'Ub69S1EKJxgF/uqU//InJeQqN0aaITNmp5tde3M1xfGsh0yLcRn3W8rsl1Fa28zPaVhzDYWKftk=',\n",
       "  'HTTPStatusCode': 200,\n",
       "  'HTTPHeaders': {'x-amz-id-2': 'Ub69S1EKJxgF/uqU//InJeQqN0aaITNmp5tde3M1xfGsh0yLcRn3W8rsl1Fa28zPaVhzDYWKftk=',\n",
       "   'x-amz-request-id': '3Y37A7AJKYPPNTKN',\n",
       "   'date': 'Thu, 12 Dec 2024 19:35:05 GMT',\n",
       "   'x-amz-bucket-region': 'us-east-1',\n",
       "   'content-type': 'application/xml',\n",
       "   'transfer-encoding': 'chunked',\n",
       "   'server': 'AmazonS3'},\n",
       "  'RetryAttempts': 0},\n",
       " 'IsTruncated': False,\n",
       " 'Marker': '',\n",
       " 'Contents': [{'Key': 'hello world',\n",
       "   'LastModified': datetime.datetime(2024, 12, 12, 19, 34, 44, tzinfo=tzutc()),\n",
       "   'ETag': '\"c1cbd445d50ae809918d4997cc9fc78c\"',\n",
       "   'Size': 378,\n",
       "   'StorageClass': 'STANDARD',\n",
       "   'Owner': {'DisplayName': 'keymaster',\n",
       "    'ID': '72f851c4b94277a8825f7c502592017f7a59633f5e7291bfcfdf1daddbb0bc1f'}}],\n",
       " 'Name': 'the.best.zipcode.bucket.there.ever.was',\n",
       " 'Prefix': '',\n",
       " 'MaxKeys': 1000,\n",
       " 'EncodingType': 'url'}"
      ]
     },
     "execution_count": 16,
     "metadata": {},
     "output_type": "execute_result"
    }
   ],
   "source": [
    "#check the contents of the bucket and see if your file is there\n",
    "\n",
    "response = s3.list_objects(Bucket='the.best.zipcode.bucket.there.ever.was')\n",
    "response"
   ]
  },
  {
   "cell_type": "code",
   "execution_count": 17,
   "metadata": {},
   "outputs": [
    {
     "data": {
      "text/plain": [
       "{'ResponseMetadata': {'RequestId': 'FE07R85KY7VPP2HK',\n",
       "  'HostId': 'gdqt7JWWIS/pC3deiCEu6cgVPjme269IWdpvaiYlGzrEh2BCWgE2j9F2+rOpEOQBkXuATr943uA=',\n",
       "  'HTTPStatusCode': 204,\n",
       "  'HTTPHeaders': {'x-amz-id-2': 'gdqt7JWWIS/pC3deiCEu6cgVPjme269IWdpvaiYlGzrEh2BCWgE2j9F2+rOpEOQBkXuATr943uA=',\n",
       "   'x-amz-request-id': 'FE07R85KY7VPP2HK',\n",
       "   'date': 'Thu, 12 Dec 2024 19:35:08 GMT',\n",
       "   'server': 'AmazonS3'},\n",
       "  'RetryAttempts': 0}}"
      ]
     },
     "execution_count": 17,
     "metadata": {},
     "output_type": "execute_result"
    }
   ],
   "source": [
    "#delete your test file\n",
    "\n",
    "delete = s3.delete_object(\n",
    "    Bucket='the.best.zipcode.bucket.there.ever.was',\n",
    "    Key='hello world')\n",
    "\n",
    "delete"
   ]
  },
  {
   "cell_type": "code",
   "execution_count": 18,
   "metadata": {},
   "outputs": [
    {
     "data": {
      "text/plain": [
       "{'ResponseMetadata': {'RequestId': 'HYC2T7EN07Z8S7N6',\n",
       "  'HostId': '7N+vzc9ts1dIc98VZx5IbwF8lB0yvysdzLLlUwW7XAge04HiFOQSQvdwt7JVn6uA7WHkyeOXkiw=',\n",
       "  'HTTPStatusCode': 200,\n",
       "  'HTTPHeaders': {'x-amz-id-2': '7N+vzc9ts1dIc98VZx5IbwF8lB0yvysdzLLlUwW7XAge04HiFOQSQvdwt7JVn6uA7WHkyeOXkiw=',\n",
       "   'x-amz-request-id': 'HYC2T7EN07Z8S7N6',\n",
       "   'date': 'Thu, 12 Dec 2024 19:35:09 GMT',\n",
       "   'x-amz-bucket-region': 'us-east-1',\n",
       "   'content-type': 'application/xml',\n",
       "   'transfer-encoding': 'chunked',\n",
       "   'server': 'AmazonS3'},\n",
       "  'RetryAttempts': 0},\n",
       " 'IsTruncated': False,\n",
       " 'Marker': '',\n",
       " 'Name': 'the.best.zipcode.bucket.there.ever.was',\n",
       " 'Prefix': '',\n",
       " 'MaxKeys': 1000,\n",
       " 'EncodingType': 'url'}"
      ]
     },
     "execution_count": 18,
     "metadata": {},
     "output_type": "execute_result"
    }
   ],
   "source": [
    "#check the contents of the bucket and confirm your file is deleted as expected\n",
    "\n",
    "check = s3.list_objects(Bucket='the.best.zipcode.bucket.there.ever.was')\n",
    "check"
   ]
  },
  {
   "cell_type": "code",
   "execution_count": 19,
   "metadata": {},
   "outputs": [],
   "source": [
    "#delete the bucket (buckets can only be deleted once they're empty)\n",
    "\n",
    "goodbye_bucket = s3.delete_bucket(Bucket='the.best.zipcode.bucket.there.ever.was')"
   ]
  }
 ],
 "metadata": {
  "kernelspec": {
   "display_name": "Python 3 (ipykernel)",
   "language": "python",
   "name": "python3"
  },
  "language_info": {
   "codemirror_mode": {
    "name": "ipython",
    "version": 3
   },
   "file_extension": ".py",
   "mimetype": "text/x-python",
   "name": "python",
   "nbconvert_exporter": "python",
   "pygments_lexer": "ipython3",
   "version": "3.12.5"
  }
 },
 "nbformat": 4,
 "nbformat_minor": 4
}
